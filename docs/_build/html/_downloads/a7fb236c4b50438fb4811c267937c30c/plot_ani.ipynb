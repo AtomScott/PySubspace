{
  "cells": [
    {
      "cell_type": "code",
      "execution_count": null,
      "metadata": {
        "collapsed": false
      },
      "outputs": [],
      "source": [
        "%matplotlib inline"
      ]
    },
    {
      "cell_type": "markdown",
      "metadata": {},
      "source": [
        "\nJust testing how an animated plot turns out\n===========================================\n"
      ]
    },
    {
      "cell_type": "code",
      "execution_count": null,
      "metadata": {
        "collapsed": false
      },
      "outputs": [],
      "source": [
        "import numpy as np\nimport matplotlib.pyplot as plt\nimport matplotlib.animation as animation\n\nimport sys\nimport numpy as np\nimport matplotlib.pyplot as plt\nfrom matplotlib.animation import FuncAnimation\n\nfig, ax = plt.subplots()\nfig.set_tight_layout(True)\n\n# Query the figure's on-screen size and DPI. Note that when saving the figure to\n# a file, we need to provide a DPI for that separately.\nprint('fig size: {0} DPI, size in inches {1}'.format(\n    fig.get_dpi(), fig.get_size_inches()))\n\n# Plot a scatter that persists (isn't redrawn) and the initial line.\nx = np.arange(0, 20, 0.1)\nax.scatter(x, x + np.random.normal(0, 3.0, len(x)))\nline, = ax.plot(x, x - 5, 'r-', linewidth=2)\n\ndef update(i):\n    label = 'timestep {0}'.format(i)\n    print(label)\n    # Update the line and the axes (with a new xlabel). Return a tuple of\n    # \"artists\" that have to be redrawn for this frame.\n    line.set_ydata(x - 5 + i)\n    ax.set_xlabel(label)\n    return line, ax\n\nif __name__ == '__main__':\n    # FuncAnimation will call the 'update' function for each frame; here\n    # animating over 10 frames, with an interval of 200ms between frames.\n    anim = FuncAnimation(fig, update, frames=np.arange(0, 10), interval=200)\n    if len(sys.argv) > 1 and sys.argv[1] == 'save':\n        anim.save('line.gif', dpi=80, writer='imagemagick')\n    else:\n        # plt.show() will just loop the animation forever.\n        plt.show()"
      ]
    }
  ],
  "metadata": {
    "kernelspec": {
      "display_name": "Python 3",
      "language": "python",
      "name": "python3"
    },
    "language_info": {
      "codemirror_mode": {
        "name": "ipython",
        "version": 3
      },
      "file_extension": ".py",
      "mimetype": "text/x-python",
      "name": "python",
      "nbconvert_exporter": "python",
      "pygments_lexer": "ipython3",
      "version": "3.7.3"
    }
  },
  "nbformat": 4,
  "nbformat_minor": 0
}