{
  "cells": [
    {
      "cell_type": "code",
      "execution_count": null,
      "metadata": {
        "collapsed": false
      },
      "outputs": [],
      "source": [
        "%matplotlib inline"
      ]
    },
    {
      "cell_type": "markdown",
      "metadata": {},
      "source": [
        "\nPCA by minimizing the Quadratic Discriminant Function\n====================================================================\n\nThis example plots an animated gif showing how we can perform principle \ncomponent analysis (PCA) by minimizing the Quadratic Discriminant Function.\n"
      ]
    },
    {
      "cell_type": "code",
      "execution_count": null,
      "metadata": {
        "collapsed": false
      },
      "outputs": [],
      "source": [
        "from scipy import linalg\nimport numpy as np\nimport matplotlib.pyplot as plt\nimport matplotlib as mpl\nfrom matplotlib import colors\nfrom matplotlib.animation import FuncAnimation\n\ndef dataset_fixed_cov():\n    '''Generate 1 Gaussians samples with the same covariance matrix'''\n    n, dim = 300, 2\n    np.random.seed(0)\n    C = np.array([[0., -0.23], [0.83, .23]])\n    X = np.dot(np.random.randn(n, dim), C) + [2., 2.]\n    return X\n\ndef calc_J(X, vec):\n    j = 0\n    m = X.mean(axis=0)\n    for v in X:\n        j += (v-m).T @ vec\n    return j\n\ndef normalize(vec):\n    return vec / np.linalg.norm(vec)\n\ndef is_normalized(vec):\n    return np.linalg.norm(vec) == 1.\n\ndef make_vector(deg):\n    return np.array([np.cos(np.deg2rad(deg)), np.sin(np.deg2rad(deg))])\n\n\nif __name__ == \"__maian__\":\n    # Generate dataset\n    X = dataset_fixed_cov()\n\n    # Calculate a bad estimation of phi\n    phi = make_vector(-45)\n    assert is_normalized(phi)\n\n    # Calculate the direction that maximises the variance\n    # with eigen decomposition\n    eig_vals, eig_vecs = np.linalg.eig(X.T@X + X.mean())\n    target_phi = eig_vecs[0]\n    assert is_normalized(target_phi)\n    \n    fig, ax = plt.subplots()\n    J = calc_J(X, phi)\n    ln, = ax.quiver(*[0,0], *phi.T, scale=2)\n\n    def init():\n        # Plot direction of Variance\n        ax.quiver(*[0,0], *phi.T, scale=2)\n        # Plot datset\n        ax.scatter(*X.T, c='blue', label='Target dataset')\n        # Plot mean\n        ax.scatter(*X.mean(axis=0), c='red', label='Mean')\n        # Plot origin\n        ax.scatter(*[0,0], c='black', label='Origin')\n        plt.legend()\n        plt.title(f'J={J}')\n        return ln,\n\n    def update(frame):\n        if frame % 2 ==0:\n            ln.set_data(*target_phi)\n        else:\n            ln.set_data(*phi)\n        return ln,    \n\n    ani = FuncAnimation(fig, update, frames=np.linspace(0, 2*np.pi, 128),\n                    init_func=init, blit=True)\n    plt.show()"
      ]
    }
  ],
  "metadata": {
    "kernelspec": {
      "display_name": "Python 3",
      "language": "python",
      "name": "python3"
    },
    "language_info": {
      "codemirror_mode": {
        "name": "ipython",
        "version": 3
      },
      "file_extension": ".py",
      "mimetype": "text/x-python",
      "name": "python",
      "nbconvert_exporter": "python",
      "pygments_lexer": "ipython3",
      "version": "3.7.3"
    }
  },
  "nbformat": 4,
  "nbformat_minor": 0
}