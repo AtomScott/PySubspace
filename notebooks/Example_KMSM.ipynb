{
 "cells": [
  {
   "cell_type": "markdown",
   "metadata": {},
   "source": [
    "# Example for using Kernel CMSM  Model with sklearn-like API"
   ]
  },
  {
   "cell_type": "code",
   "execution_count": 1,
   "metadata": {
    "ExecuteTime": {
     "end_time": "2018-12-13T05:47:58.014343Z",
     "start_time": "2018-12-13T05:47:58.010071Z"
    }
   },
   "outputs": [],
   "source": [
    "import sys, os\n",
    "sys.path.insert(0, os.pardir)"
   ]
  },
  {
   "cell_type": "markdown",
   "metadata": {},
   "source": [
    "### Sample face dataset\n",
    " - Put Face_data.mat under sample_dataset"
   ]
  },
  {
   "cell_type": "code",
   "execution_count": 2,
   "metadata": {
    "ExecuteTime": {
     "end_time": "2018-12-13T05:47:58.345243Z",
     "start_time": "2018-12-13T05:47:58.016965Z"
    }
   },
   "outputs": [],
   "source": [
    "import h5py\n",
    "import numpy as np\n",
    "\n",
    "def load_mat_file(file_name, *var_name):\n",
    "    \"\"\"Load .mat file as ndarray\n",
    "    example     array = Utils.load_mat_file(\"hoge.mat\")\n",
    "                array = Util.load_mat_file(\"hoge.mat\", [\"var1\", \"result\"])\n",
    "\n",
    "    Args:\n",
    "        file_name (TYPE): The file name for reading mat file\n",
    "        var_name (TYPE): The variable name for a matrix\n",
    "\n",
    "    Returns:\n",
    "        array_dict (TYPE): Read arrays as the dictionary\n",
    "    \"\"\"\n",
    "    f = h5py.File(file_name, \"r\")\n",
    "    keys_name = list(f.keys())\n",
    "    array_dict = {}\n",
    "\n",
    "    if len(var_name) == 0:\n",
    "\n",
    "        for i in keys_name:\n",
    "            array_dict[i] = f[i]\n",
    "\n",
    "        if \"#refs#\" in array_dict:\n",
    "            del (array_dict[\"#refs#\"])\n",
    "        if \"#subsystem#\" in array_dict:\n",
    "            del (array_dict[\"#subsystem#\"])\n",
    "    else:\n",
    "        for i in var_name:\n",
    "            array_dict[i] = f[i]\n",
    "        if \"#refs#\" in array_dict:\n",
    "            del (array_dict[\"#refs#\"])\n",
    "        if \"#subsystem#\" in array_dict:\n",
    "            del (array_dict[\"#subsystem#\"])\n",
    "    return array_dict\n",
    "\n",
    "face = load_mat_file(\"../sample_dataset/Face_data.mat\")\n",
    "train_X = np.array(face[\"X1\"])\n",
    "train_y = np.arange(len(train_X))\n",
    "test_X = np.array(face[\"X2\"])\n",
    "test_X = test_X.reshape(-1, test_X.shape[-2], test_X.shape[-1])\n",
    "test_y = np.array([[i] * 36 for i in range(10)]).flatten()"
   ]
  },
  {
   "cell_type": "markdown",
   "metadata": {},
   "source": [
    "### Training"
   ]
  },
  {
   "cell_type": "code",
   "execution_count": 3,
   "metadata": {
    "ExecuteTime": {
     "end_time": "2018-12-13T05:47:58.372883Z",
     "start_time": "2018-12-13T05:47:58.347719Z"
    }
   },
   "outputs": [],
   "source": [
    "eps = 5e-1\n",
    "rs = np.random.RandomState(seed=100)\n",
    "train_X = [_X + eps * rs.randn(*_X[0].shape) for _X in train_X]\n",
    "test_X = [_X + eps * rs.randn(*_X[0].shape) for _X in test_X]"
   ]
  },
  {
   "cell_type": "code",
   "execution_count": 8,
   "metadata": {
    "ExecuteTime": {
     "end_time": "2018-12-13T05:48:34.370974Z",
     "start_time": "2018-12-13T05:48:34.352172Z"
    },
    "scrolled": true
   },
   "outputs": [],
   "source": [
    "from cvt.models import KernelMSM\n",
    "from sklearn.model_selection import RandomizedSearchCV\n",
    "from scipy.stats import randint as sp_randint\n",
    "\n",
    "model = KernelMSM(n_subdims=5, sigma=100, faster_mode=True)\n",
    "model.fit(train_X, train_y)"
   ]
  },
  {
   "cell_type": "markdown",
   "metadata": {},
   "source": [
    "### Evaluation"
   ]
  },
  {
   "cell_type": "code",
   "execution_count": 7,
   "metadata": {
    "ExecuteTime": {
     "end_time": "2018-12-13T05:48:26.586955Z",
     "start_time": "2018-12-13T05:48:25.849215Z"
    }
   },
   "outputs": [
    {
     "name": "stdout",
     "output_type": "stream",
     "text": [
      "pred: [0 0 0 0 0 0 0 0 0 0 0 0 0 0 0 0 0 0 0 0 0 0 0 0 0 0 0 0 0 0 0 0 0 0 0 0 1\n",
      " 7 1 4 0 4 1 4 7 1 1 0 1 4 1 1 4 1 1 1 0 0 1 4 1 4 1 1 1 1 1 1 1 1 1 1 2 2\n",
      " 2 2 2 2 2 2 2 2 2 2 2 2 2 2 2 2 2 2 2 2 2 2 2 2 2 2 2 2 2 2 3 2 6 2 3 3 3\n",
      " 3 3 3 3 3 3 3 3 3 3 3 3 3 3 3 3 3 3 3 3 3 3 3 3 3 3 3 3 3 3 3 3 3 4 4 4 4\n",
      " 4 4 4 4 4 4 0 4 4 4 4 4 4 4 4 4 4 4 4 4 4 4 4 4 4 4 4 4 4 4 4 4 5 8 5 5 5\n",
      " 5 5 5 8 5 5 5 8 5 8 5 5 5 5 5 5 8 5 8 5 5 5 9 5 5 5 5 5 8 5 5 6 6 6 6 6 6\n",
      " 6 6 6 6 6 6 6 9 6 6 6 6 6 6 6 6 6 6 6 6 9 6 6 6 6 6 6 6 6 6 7 7 7 7 7 7 7\n",
      " 7 7 7 7 7 4 7 7 7 7 7 7 7 7 7 7 7 7 7 7 7 7 7 0 7 7 7 7 7 8 8 8 8 8 8 8 8\n",
      " 8 8 8 8 8 8 8 8 8 8 8 8 8 8 8 8 8 8 8 8 8 8 8 8 8 8 8 8 6 6 6 9 9 9 9 9 9\n",
      " 9 9 6 9 9 9 9 6 9 9 9 9 6 6 6 9 5 6 6 9 9 9 9 9 9 9 9]\n",
      "true: [0 0 0 0 0 0 0 0 0 0 0 0 0 0 0 0 0 0 0 0 0 0 0 0 0 0 0 0 0 0 0 0 0 0 0 0 1\n",
      " 1 1 1 1 1 1 1 1 1 1 1 1 1 1 1 1 1 1 1 1 1 1 1 1 1 1 1 1 1 1 1 1 1 1 1 2 2\n",
      " 2 2 2 2 2 2 2 2 2 2 2 2 2 2 2 2 2 2 2 2 2 2 2 2 2 2 2 2 2 2 2 2 2 2 3 3 3\n",
      " 3 3 3 3 3 3 3 3 3 3 3 3 3 3 3 3 3 3 3 3 3 3 3 3 3 3 3 3 3 3 3 3 3 4 4 4 4\n",
      " 4 4 4 4 4 4 4 4 4 4 4 4 4 4 4 4 4 4 4 4 4 4 4 4 4 4 4 4 4 4 4 4 5 5 5 5 5\n",
      " 5 5 5 5 5 5 5 5 5 5 5 5 5 5 5 5 5 5 5 5 5 5 5 5 5 5 5 5 5 5 5 6 6 6 6 6 6\n",
      " 6 6 6 6 6 6 6 6 6 6 6 6 6 6 6 6 6 6 6 6 6 6 6 6 6 6 6 6 6 6 7 7 7 7 7 7 7\n",
      " 7 7 7 7 7 7 7 7 7 7 7 7 7 7 7 7 7 7 7 7 7 7 7 7 7 7 7 7 7 8 8 8 8 8 8 8 8\n",
      " 8 8 8 8 8 8 8 8 8 8 8 8 8 8 8 8 8 8 8 8 8 8 8 8 8 8 8 8 9 9 9 9 9 9 9 9 9\n",
      " 9 9 9 9 9 9 9 9 9 9 9 9 9 9 9 9 9 9 9 9 9 9 9 9 9 9 9]\n",
      "accuracy: 0.8916666666666667\n"
     ]
    }
   ],
   "source": [
    "pred = model.predict(test_X)\n",
    "print(f\"pred: {pred}\\ntrue: {test_y}\\naccuracy: {(pred == test_y).mean()}\")"
   ]
  }
 ],
 "metadata": {
  "kernelspec": {
   "display_name": "Python 3",
   "language": "python",
   "name": "python3"
  },
  "language_info": {
   "codemirror_mode": {
    "name": "ipython",
    "version": 3
   },
   "file_extension": ".py",
   "mimetype": "text/x-python",
   "name": "python",
   "nbconvert_exporter": "python",
   "pygments_lexer": "ipython3",
   "version": "3.7.3"
  },
  "varInspector": {
   "cols": {
    "lenName": 16,
    "lenType": 16,
    "lenVar": 40
   },
   "kernels_config": {
    "python": {
     "delete_cmd_postfix": "",
     "delete_cmd_prefix": "del ",
     "library": "var_list.py",
     "varRefreshCmd": "print(var_dic_list())"
    },
    "r": {
     "delete_cmd_postfix": ") ",
     "delete_cmd_prefix": "rm(",
     "library": "var_list.r",
     "varRefreshCmd": "cat(var_dic_list()) "
    }
   },
   "types_to_exclude": [
    "module",
    "function",
    "builtin_function_or_method",
    "instance",
    "_Feature"
   ],
   "window_display": false
  }
 },
 "nbformat": 4,
 "nbformat_minor": 4
}
