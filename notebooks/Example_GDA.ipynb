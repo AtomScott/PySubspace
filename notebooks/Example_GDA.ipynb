{
 "cells": [
  {
   "cell_type": "markdown",
   "metadata": {},
   "source": [
    "# Example for using Grassmann Discriminant Analysis Model\n",
    " - sklearn-like API\n",
    "     - we can combine any sklearn tools like GridSearchCV with it"
   ]
  },
  {
   "cell_type": "code",
   "execution_count": 4,
   "metadata": {},
   "outputs": [],
   "source": [
    "import sys, os\n",
    "sys.path.insert(0, os.pardir)\n",
    "\n",
    "import warnings\n",
    "warnings.filterwarnings('ignore')"
   ]
  },
  {
   "cell_type": "markdown",
   "metadata": {},
   "source": [
    "### Settings\n",
    " - original spaces are belonging to n_origdim = 300 dimensional space\n",
    " - subspace dimension is n_subdim = 10\n",
    " - there are 3 classes, `'uno'`, `'dos'`, `'tres'`\n",
    " - numbers of samples are n_uno = 50, n_dos = 40, n_tres = 30\n",
    " - numbers of samples in each class are n_uno = 50\n",
    " - test data is 3 subspaces belonging to each class"
   ]
  },
  {
   "cell_type": "code",
   "execution_count": 5,
   "metadata": {},
   "outputs": [],
   "source": [
    "import numpy as np\n",
    "\n",
    "n_origdim, n_subdim = 300, 10\n",
    "n_uno, n_dos, n_tres = 50, 40, 30\n",
    "\n",
    "b = [np.random.rand(n_origdim) * 10 for i in range(6)]\n",
    "X = np.vstack([\n",
    "    np.random.randn(n_uno,  n_subdim, n_origdim) + b[0] + b[1],\n",
    "    np.random.randn(n_dos,  n_subdim, n_origdim) + b[2] + b[3],\n",
    "    np.random.randn(n_tres, n_subdim, n_origdim) + b[4] + b[5]\n",
    "])\n",
    "y = np.array(['uno'] * n_uno + ['dos'] * n_dos + ['tres'] * n_tres)\n",
    "test_X = [np.random.randn(n_subdim, n_origdim) + b[0] + b[1],\n",
    "          np.random.randn(n_subdim, n_origdim) + b[2] + b[3],\n",
    "          np.random.randn(n_subdim, n_origdim) + b[4] + b[5]]\n",
    "test_y = np.array(['uno', 'dos', 'tres'])"
   ]
  },
  {
   "cell_type": "markdown",
   "metadata": {},
   "source": [
    "### Parameter search with RandomizedSearchCV"
   ]
  },
  {
   "cell_type": "code",
   "execution_count": 6,
   "metadata": {
    "scrolled": true
   },
   "outputs": [
    {
     "name": "stdout",
     "output_type": "stream",
     "text": [
      "Fitting 3 folds for each of 10 candidates, totalling 30 fits\n"
     ]
    },
    {
     "name": "stderr",
     "output_type": "stream",
     "text": [
      "[Parallel(n_jobs=1)]: Done  30 out of  30 | elapsed:   58.6s finished\n"
     ]
    },
    {
     "name": "stdout",
     "output_type": "stream",
     "text": [
      "best model: GrassmannDiscriminantAnalysis(n_subdims=3, normalize=False)\n",
      "best parameters: {'n_subdims': 3, 'normalize': False}\n",
      "best score: 1.0\n"
     ]
    }
   ],
   "source": [
    "from cvt.models import GrassmannDiscriminantAnalysis\n",
    "from sklearn.model_selection import RandomizedSearchCV\n",
    "from scipy.stats import randint as sp_randint\n",
    "\n",
    "gda = GrassmannDiscriminantAnalysis()\n",
    "params = {'n_subdims': sp_randint(1, n_subdim-1), 'normalize': [True, False]}\n",
    "clf = RandomizedSearchCV(gda, params, n_iter=10, cv=3, verbose=1)\n",
    "clf.fit(X, y)\n",
    "print(f'best model: {clf.best_estimator_}')\n",
    "print(f'best parameters: {clf.best_params_}')\n",
    "print(f'best score: {clf.best_score_}')"
   ]
  },
  {
   "cell_type": "markdown",
   "metadata": {},
   "source": [
    "### Make prediction by best estimator"
   ]
  },
  {
   "cell_type": "code",
   "execution_count": 7,
   "metadata": {},
   "outputs": [
    {
     "name": "stdout",
     "output_type": "stream",
     "text": [
      "pred: ['uno' 'dos' 'tres'], true: ['uno' 'dos' 'tres'], result: [ True  True  True]\n"
     ]
    }
   ],
   "source": [
    "pred = clf.best_estimator_.predict(test_X)\n",
    "print(f'pred: {pred}, true: {test_y}, result: {pred == test_y}')"
   ]
  },
  {
   "cell_type": "code",
   "execution_count": null,
   "metadata": {},
   "outputs": [],
   "source": []
  }
 ],
 "metadata": {
  "kernelspec": {
   "display_name": "Python 3",
   "language": "python",
   "name": "python3"
  },
  "language_info": {
   "codemirror_mode": {
    "name": "ipython",
    "version": 3
   },
   "file_extension": ".py",
   "mimetype": "text/x-python",
   "name": "python",
   "nbconvert_exporter": "python",
   "pygments_lexer": "ipython3",
   "version": "3.7.3"
  }
 },
 "nbformat": 4,
 "nbformat_minor": 4
}
